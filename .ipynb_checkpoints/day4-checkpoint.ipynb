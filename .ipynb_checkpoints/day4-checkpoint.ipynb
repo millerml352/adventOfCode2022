{
 "cells": [
  {
   "cell_type": "code",
   "execution_count": 3,
   "id": "72d4a651-99d2-4e50-b4b4-a2819f81ceb4",
   "metadata": {},
   "outputs": [
    {
     "data": {
      "text/plain": [
       "['20-45,13-44', '7-8,8-28', '3-39,14-97']"
      ]
     },
     "execution_count": 3,
     "metadata": {},
     "output_type": "execute_result"
    }
   ],
   "source": [
    "#day 4 part 1\n",
    "file = open('day4input1.txt', 'r')\n",
    "contents = file.read()\n",
    "contents\n",
    "elf_pairs = contents.strip().split('\\n')\n",
    "elf_pairs[0:3]"
   ]
  },
  {
   "cell_type": "code",
   "execution_count": null,
   "id": "e920cefe-a602-496c-b0da-532a9719f2f0",
   "metadata": {},
   "outputs": [],
   "source": [
    "# iterate over each pair\n",
    "# separate into elf 1 and elf 2\n",
    "# create range from their assignments\n",
    "# determine min and max for each elf\n",
    "# check if elf 1 min is <= elf 2 min AND elf 1 max >= elf 2 max\n",
    "# or if elf 2 min is <= elf 1 min AND elf 2 max >= elf 1 max\n",
    "# if either is true, add 1 to counter to get total number of pairs and break to avoid double counting pairs where assignments are equal, like 6-6,6-6"
   ]
  },
  {
   "cell_type": "code",
   "execution_count": 26,
   "id": "a36fab97-dd0f-4ee6-b0d4-971ddb29bad9",
   "metadata": {},
   "outputs": [
    {
     "data": {
      "text/plain": [
       "441"
      ]
     },
     "execution_count": 26,
     "metadata": {},
     "output_type": "execute_result"
    }
   ],
   "source": [
    "final_count = 0\n",
    "for pair in elf_pairs:\n",
    "    pair_arr = pair.split(',')\n",
    "    elf_one = pair_arr[0].split('-')\n",
    "    elf_two = pair_arr[1].split('-')\n",
    "    elf_one_min, elf_one_max, elf_two_min, elf_two_max = int(elf_one[0]), int(elf_one[1]), int(elf_two[0]), int(elf_two[1])\n",
    "    #print(elf_one_min, elf_one_max, elf_two_min, elf_two_max)\n",
    "    if elf_one_min == elf_two_min and elf_one_max == elf_two_max:\n",
    "        final_count += 1\n",
    "    elif elf_one_min <= elf_two_min and elf_one_max >= elf_two_max:\n",
    "        final_count += 1\n",
    "    elif elf_two_min <= elf_one_min and elf_two_max >= elf_one_max:\n",
    "        final_count += 1\n",
    "    #else:\n",
    "        #print('NA')\n",
    "        \n",
    "final_count"
   ]
  },
  {
   "cell_type": "code",
   "execution_count": 46,
   "id": "6266043b-4c65-4b97-a954-319a06ddb417",
   "metadata": {},
   "outputs": [
    {
     "data": {
      "text/plain": [
       "861"
      ]
     },
     "execution_count": 46,
     "metadata": {},
     "output_type": "execute_result"
    }
   ],
   "source": [
    "#day 4 part 2\n",
    "# create ranges from mins and maxes, use in ?\n",
    "final_count = 0\n",
    "for pair in elf_pairs:\n",
    "    pair_arr = pair.split(',')\n",
    "    elf_one = pair_arr[0].split('-')\n",
    "    elf_two = pair_arr[1].split('-')\n",
    "    elf_one_min, elf_one_max, elf_two_min, elf_two_max = int(elf_one[0]), int(elf_one[1])+1, int(elf_two[0]), int(elf_two[1])+1\n",
    "    elf_one_range = tuple(range(elf_one_min,elf_one_max,1))\n",
    "    elf_two_range = tuple(range(elf_two_min,elf_two_max,1))\n",
    "    xsect = [elf1 for elf1 in elf_one_range for elf2 in elf_two_range if elf1 == elf2]\n",
    "    #print(xsect)\n",
    "    if xsect != []:\n",
    "        final_count +=1\n",
    "final_count"
   ]
  }
 ],
 "metadata": {
  "kernelspec": {
   "display_name": "Python 3 (ipykernel)",
   "language": "python",
   "name": "python3"
  },
  "language_info": {
   "codemirror_mode": {
    "name": "ipython",
    "version": 3
   },
   "file_extension": ".py",
   "mimetype": "text/x-python",
   "name": "python",
   "nbconvert_exporter": "python",
   "pygments_lexer": "ipython3",
   "version": "3.10.8"
  }
 },
 "nbformat": 4,
 "nbformat_minor": 5
}
