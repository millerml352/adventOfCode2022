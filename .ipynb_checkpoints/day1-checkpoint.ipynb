{
 "cells": [
  {
   "cell_type": "code",
   "execution_count": 6,
   "id": "e158ce5e-9a1f-433c-88be-0480be35abdd",
   "metadata": {},
   "outputs": [],
   "source": [
    "#day 1 part 1\n",
    "file = open('day1input1.txt', 'r')\n",
    "content = file.read()"
   ]
  },
  {
   "cell_type": "code",
   "execution_count": 7,
   "id": "6c4f0535-65ff-488b-afe2-6f4f7184e1c8",
   "metadata": {},
   "outputs": [],
   "source": [
    "elves = str(content).strip().split('\\n\\n')"
   ]
  },
  {
   "cell_type": "code",
   "execution_count": 14,
   "id": "3dafeeaa-2778-4087-85ec-0114696bf1d5",
   "metadata": {},
   "outputs": [],
   "source": [
    "elves_global = []\n",
    "\n",
    "for count, elf in enumerate(elves):\n",
    "    empty_elf = []\n",
    "    empty_elf = elf.split('\\n')\n",
    "    elves_global.append(empty_elf)"
   ]
  },
  {
   "cell_type": "code",
   "execution_count": 18,
   "id": "703cd4bc-95ed-4e27-9662-2e0cf1101c91",
   "metadata": {},
   "outputs": [],
   "source": [
    "# sum each elves calories\n",
    "calories = [sum(int(food) for food in each_elf) for each_elf in elves_global]"
   ]
  },
  {
   "cell_type": "code",
   "execution_count": 20,
   "id": "23043da2-219d-4464-9982-ce338476e7e1",
   "metadata": {},
   "outputs": [],
   "source": [
    "calories\n",
    "\n",
    "most_calories = max(calories)"
   ]
  },
  {
   "cell_type": "code",
   "execution_count": 21,
   "id": "9f5bfec0-1853-4334-adcd-7fbc3f9818f9",
   "metadata": {},
   "outputs": [
    {
     "data": {
      "text/plain": [
       "68923"
      ]
     },
     "execution_count": 21,
     "metadata": {},
     "output_type": "execute_result"
    }
   ],
   "source": [
    "most_calories"
   ]
  },
  {
   "cell_type": "code",
   "execution_count": 27,
   "id": "8a8361c9-e6dd-4728-b8a0-7667eea69509",
   "metadata": {},
   "outputs": [
    {
     "data": {
      "text/plain": [
       "200044"
      ]
     },
     "execution_count": 27,
     "metadata": {},
     "output_type": "execute_result"
    }
   ],
   "source": [
    "#day 1 part 2\n",
    "calories.sort(reverse=True)\n",
    "calories\n",
    "\n",
    "three_most_calories = calories[0]+calories[1]+calories[2]\n",
    "three_most_calories"
   ]
  }
 ],
 "metadata": {
  "kernelspec": {
   "display_name": "Python 3 (ipykernel)",
   "language": "python",
   "name": "python3"
  },
  "language_info": {
   "codemirror_mode": {
    "name": "ipython",
    "version": 3
   },
   "file_extension": ".py",
   "mimetype": "text/x-python",
   "name": "python",
   "nbconvert_exporter": "python",
   "pygments_lexer": "ipython3",
   "version": "3.10.8"
  }
 },
 "nbformat": 4,
 "nbformat_minor": 5
}
